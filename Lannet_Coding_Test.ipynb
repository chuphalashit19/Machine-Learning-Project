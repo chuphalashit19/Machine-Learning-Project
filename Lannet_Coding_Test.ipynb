{
  "nbformat": 4,
  "nbformat_minor": 0,
  "metadata": {
    "colab": {
      "name": "Lannet_Coding_Test.ipynb",
      "provenance": [],
      "collapsed_sections": [],
      "toc_visible": true,
      "authorship_tag": "ABX9TyMWYWv2QiXxo3ZvYyH++6sf",
      "include_colab_link": true
    },
    "kernelspec": {
      "name": "python3",
      "display_name": "Python 3"
    }
  },
  "cells": [
    {
      "cell_type": "markdown",
      "metadata": {
        "id": "view-in-github",
        "colab_type": "text"
      },
      "source": [
        "<a href=\"https://colab.research.google.com/github/chuphalashit19/Machine-Learning-Project/blob/master/Lannet_Coding_Test.ipynb\" target=\"_parent\"><img src=\"https://colab.research.google.com/assets/colab-badge.svg\" alt=\"Open In Colab\"/></a>"
      ]
    },
    {
      "cell_type": "code",
      "metadata": {
        "id": "-x1gn7bf6T66",
        "colab_type": "code",
        "colab": {}
      },
      "source": [
        "from matplotlib import pyplot as plt\n",
        "import pandas as pd\n",
        "from scipy import stats\n",
        "import numpy as np"
      ],
      "execution_count": 7,
      "outputs": []
    },
    {
      "cell_type": "code",
      "metadata": {
        "id": "KT7WrAOi-AYc",
        "colab_type": "code",
        "colab": {
          "base_uri": "https://localhost:8080/",
          "height": 833
        },
        "outputId": "8ebc04ff-a83c-411e-8409-4844034c0c6f"
      },
      "source": [
        "def outlier_func():\n",
        "    Filename = \"Dummy\"\n",
        "    df = pd.read_excel(r'/content/sample_data/Dummy.xlsx')\n",
        "    print(\"DataFrame with outliers:\")\n",
        "    print(df)\n",
        "    print()\n",
        "    plt.scatter(df.Salary, df.Name,c='red')\n",
        "\n",
        "    z = np.abs(stats.zscore(df.Salary))\n",
        "    print(\"z_score for Salary:\",z)\n",
        "    print()\n",
        "\n",
        "    avg = sum(z)/len(z)\n",
        "\n",
        "    print(\"Array index of outliers:\",np.where(z > avg))\n",
        "    print()\n",
        "\n",
        "    dfo = df[(z < avg)]\n",
        "    print(\"DataFrame after removing outliers:\")\n",
        "    print(dfo)\n",
        "\n",
        "    print(\"\\nScatter plot with outliers:\")\n",
        "outlier_func()"
      ],
      "execution_count": 14,
      "outputs": [
        {
          "output_type": "stream",
          "text": [
            "DataFrame with outliers:\n",
            "       Name  Age        DOB  ...            Post Joining_date Leaving_date\n",
            "0     Ashit   21 1999-11-19  ...     ML Engineer   2019-10-01   2020-02-08\n",
            "1     Parit   23 1996-01-07  ...     Sr Engineer   2018-07-20   2020-03-02\n",
            "2  Ridhvika   20 2000-11-21  ...     Jr Engineer   2019-06-22   2020-04-15\n",
            "3  Hrithika   20 2000-06-19  ...    Jr Architect   2017-06-15   2019-02-11\n",
            "4     Rahul   22 1998-10-28  ...  Data Scientist   2015-09-08   2017-06-22\n",
            "5   Madhuri   21 1999-03-30  ...       Developer   2014-05-28   2019-05-20\n",
            "6     Karan   22 1998-12-14  ...  Data Scientist   2019-11-05   2020-06-15\n",
            "7     Leena   20 2000-08-02  ...     ML Engineer   2020-02-02   2020-07-06\n",
            "8     Kamal   19 2001-06-22  ...     AI Engineer   2018-10-08   2019-09-08\n",
            "9     Sneha   20 2000-12-12  ...         Manager   2017-01-17   2019-11-02\n",
            "\n",
            "[10 rows x 8 columns]\n",
            "\n",
            "z_score for Salary: [0.67546753 0.67014469 0.66482186 1.4004374  0.65417619 1.50689407\n",
            " 0.64353053 0.6382077  1.66657906 0.62756203]\n",
            "\n",
            "Array index of outliers: (array([3, 5, 8]),)\n",
            "\n",
            "DataFrame after removing outliers:\n",
            "       Name  Age        DOB  ...            Post Joining_date Leaving_date\n",
            "0     Ashit   21 1999-11-19  ...     ML Engineer   2019-10-01   2020-02-08\n",
            "1     Parit   23 1996-01-07  ...     Sr Engineer   2018-07-20   2020-03-02\n",
            "2  Ridhvika   20 2000-11-21  ...     Jr Engineer   2019-06-22   2020-04-15\n",
            "4     Rahul   22 1998-10-28  ...  Data Scientist   2015-09-08   2017-06-22\n",
            "6     Karan   22 1998-12-14  ...  Data Scientist   2019-11-05   2020-06-15\n",
            "7     Leena   20 2000-08-02  ...     ML Engineer   2020-02-02   2020-07-06\n",
            "9     Sneha   20 2000-12-12  ...         Manager   2017-01-17   2019-11-02\n",
            "\n",
            "[7 rows x 8 columns]\n",
            "\n",
            "Scatter plot with outliers:\n"
          ],
          "name": "stdout"
        },
        {
          "output_type": "display_data",
          "data": {
            "image/png": "[encoded data removed]",
            "text/plain": [
              "<Figure size 432x288 with 1 Axes>"
            ]
          },
          "metadata": {
            "tags": [],
            "needs_background": "light"
          }
        }
      ]
    },
    {
      "cell_type": "code",
      "metadata": {
        "id": "lFRuNSTWoAf0",
        "colab_type": "code",
        "colab": {
          "base_uri": "https://localhost:8080/",
          "height": 386
        },
        "outputId": "5339f08c-3c0e-48a0-b847-5df327562277"
      },
      "source": [
        "def col_func():\n",
        "    df = pd.read_excel(r'/content/sample_data/Dummy.xlsx')\n",
        "    date = df.select_dtypes(include=[np.datetime64])\n",
        "    i = 0 \n",
        "    j = 1\n",
        "    tot_col = len(date.columns)\n",
        "    for k in range(tot_col-1):\n",
        "        first_column = date.iloc[:, i]\n",
        "        second_column = date.iloc[:, j]\n",
        "        df['Difference'] = (second_column-first_column)\n",
        "        i += 1\n",
        "        j += 1\n",
        "        print(df['Difference'])\n",
        "col_func()"
      ],
      "execution_count": 15,
      "outputs": [
        {
          "output_type": "stream",
          "text": [
            "0   7256 days\n",
            "1   8230 days\n",
            "2   6787 days\n",
            "3   6205 days\n",
            "4   6159 days\n",
            "5   5538 days\n",
            "6   7631 days\n",
            "7   7123 days\n",
            "8   6317 days\n",
            "9   5880 days\n",
            "Name: Difference, dtype: timedelta64[ns]\n",
            "0    130 days\n",
            "1    591 days\n",
            "2    298 days\n",
            "3    606 days\n",
            "4    653 days\n",
            "5   1818 days\n",
            "6    223 days\n",
            "7    155 days\n",
            "8    335 days\n",
            "9   1019 days\n",
            "Name: Difference, dtype: timedelta64[ns]\n"
          ],
          "name": "stdout"
        }
      ]
    },
    {
      "cell_type": "code",
      "metadata": {
        "id": "CRvIbcD2y_cM",
        "colab_type": "code",
        "colab": {
          "base_uri": "https://localhost:8080/",
          "height": 403
        },
        "outputId": "05ca355f-545a-494e-f499-d4e5713cb288"
      },
      "source": [
        "def corr_rem():\n",
        "    df = pd.read_excel(r'/content/sample_data/Dummy2.xlsx')\n",
        "    print(\"Dataframe before dropping any column:\\n\")\n",
        "    print(df)\n",
        "    corr_matrix = df.corr().abs()\n",
        "    corr_matrix\n",
        "    # Using upper part of matrix\n",
        "    upper = corr_matrix.where(np.triu(np.ones(corr_matrix.shape), k=1).astype(np.bool))\n",
        "\n",
        "    to_drop = [column for column in upper.columns if any(upper[column] > 0.85)]\n",
        "    \n",
        "    # Drops the column having correlation grater than 0.85 \n",
        "    df.drop(to_drop, axis=1, inplace=True)\n",
        "    print(\"\\nDataframe after dropping columns having pearson correlation grater than 0.85:\\n\")\n",
        "    print(df)\n",
        "corr_rem()"
      ],
      "execution_count": 18,
      "outputs": [
        {
          "output_type": "stream",
          "text": [
            "Dataframe before dropping any column:\n",
            "\n",
            "   GA                          PN      PC   MBP      GR  AP   \n",
            "0                   0.033   6.652   6.681  0.194  0.874  3.177\n",
            "1                   0.034   9.039   6.224  0.194  1.137  3.400\n",
            "2                   0.035  10.936  10.304  1.015  0.911  4.900\n",
            "3                   0.022  10.110   9.603  1.374  0.848  4.566\n",
            "4                   0.035   2.963  17.156  0.599  0.823  9.406\n",
            "5                   0.033  10.872  10.244  1.015  0.574  4.871\n",
            "6                   0.035  21.694  22.389  1.015  0.859  9.259\n",
            "7                   0.035  10.936  10.304  1.015  0.911  4.500\n",
            "\n",
            "Dataframe after dropping columns having pearson correlation grater than 0.85:\n",
            "\n",
            "   GA                          PN      PC   MBP      GR\n",
            "0                   0.033   6.652   6.681  0.194  0.874\n",
            "1                   0.034   9.039   6.224  0.194  1.137\n",
            "2                   0.035  10.936  10.304  1.015  0.911\n",
            "3                   0.022  10.110   9.603  1.374  0.848\n",
            "4                   0.035   2.963  17.156  0.599  0.823\n",
            "5                   0.033  10.872  10.244  1.015  0.574\n",
            "6                   0.035  21.694  22.389  1.015  0.859\n",
            "7                   0.035  10.936  10.304  1.015  0.911\n"
          ],
          "name": "stdout"
        }
      ]
    },
    {
      "cell_type": "markdown",
      "metadata": {
        "id": "qp5dmoRj73Ha",
        "colab_type": "text"
      },
      "source": [
        "I tried working on what i could understand from problem questions , was a bit confused at places. But i did assumption and completed the questions. "
      ]
    },
    {
      "cell_type": "markdown",
      "metadata": {
        "id": "YXtBbsNXkakY",
        "colab_type": "text"
      },
      "source": [
        "# New Section"
      ]
    }
  ]
}